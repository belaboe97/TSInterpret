{
 "cells": [
  {
   "attachments": {},
   "cell_type": "markdown",
   "metadata": {},
   "source": [
    "# SETS\n",
    "\n",
    "A counterfactual explanation, originally introduced to machine learning by [1], answers the question \"what if\" by building counterexamples. Based on an input instance $x$, the goal is to find a counterfactual $x^{cf}$ close to the original instance $x$ but differently classified $y \\neq y^{cf}$ by a predictor $f$. The intention is to visualize boundary cases. Further research has shown that counterfactual explanations are easy to understand for humans because they are intuitive  to human thinking by showing counterexamples.  \n",
    "\n",
    "Shapelet-based Temporal Association Rule Mining for Multivariate Time Series Classification developed by Bahri et al. [1] builds counterfactuals in multivariate setting by perturbing the features of a time series with the help of a shapelet algorithm. Hereby they extract the most prominent class shapelets using an adaption of the shapelet transform algorithm of [2] implemented in sktime. The algorithm is adapted to multivariate timeseries analysis, treating each dimension as a univariate timeseries and information gain. The algorithm imputes the shapelets based on prior observed occcurences and shapelet quality. If a single shapelet does not cause a counterfactual prediction, more perturbations in other dimensions or other parts of the timeseries are performed. \n",
    "\n",
    "\n",
    "<img src=\"https://fzi-forschungszentrum-informatik.github.io/TSInterpret/Notebooks/SETS_CF.png\" alt=\"Visualization of SETS_CF\" style=\"width: 800px;\" />\n",
    "\n",
    "\n",
    "\n",
    "Visualization of SETS from the original paper [1]; The code in TSInterpret is based on the authors <a href='https://github.com/omarbahri/SETS'>implementation </a>.\n",
    "\n",
    "[1] Omar Bahri and Soukaina Filali Boubrahimi and Shah Muhammad Hamdi.Shapelet-Based Counterfactual Explanations for Multivariate Time Series. 2022 ACM SIGKDD Workshop on Mining and Learning from Time Series. arXiv:2208.10462 URL:https://arxiv.org/abs/2208.10462 (visited on 2023-12-04)\n",
    "\n",
    "\n",
    "[2] Hills, Jon and Lines, Jason and Baranauskas, Edgaras and Mapp, James and Bagnall, Anthony. Classification of time series by shapelet transformation. Data Mining and Knowledge Discovery. Harv. JL & Tech. 31 (2017): 841."
   ]
  },
  {
   "cell_type": "code",
   "execution_count": 2,
   "metadata": {},
   "outputs": [],
   "source": [
    "import os\n",
    "os.environ['TF_CPP_MIN_LOG_LEVEL'] = '3' \n",
    "import pandas as pd\n",
    "import numpy as np\n",
    "import torch\n",
    "import gc\n",
    "import torch.nn as nn\n",
    "from tqdm import tqdm_notebook as tqdm\n",
    "from torch.utils.data import Dataset, DataLoader\n",
    "import seaborn as sns\n",
    "import matplotlib.pyplot as plt\n",
    "from sklearn.metrics import confusion_matrix, accuracy_score\n",
    "import random\n",
    "from sklearn import tree\n",
    "from sklearn.model_selection import cross_val_score\n",
    "from pymop import Problem\n",
    "import os\n",
    "from tslearn.datasets import UCR_UEA_datasets\n",
    "import warnings\n",
    "warnings.filterwarnings('ignore')\n",
    "import pickle\n",
    "import sklearn"
   ]
  },
  {
   "attachments": {},
   "cell_type": "markdown",
   "metadata": {},
   "source": [
    "## Load Data and Model\n",
    "- Load Data and reshape the data to fit a 1D-Conv Convolutional Neural Network (CNN). Note that the input for a 1D-Conv CNN hat the shape (batch, timesteps, features).\n",
    "- Load Model with Pretrained Weigths. "
   ]
  },
  {
   "cell_type": "code",
   "execution_count": 2,
   "metadata": {},
   "outputs": [],
   "source": [
    "dataset='GunPoint'\n",
    "X_train,train_y,X_test,test_y=UCR_UEA_datasets().load_dataset(dataset)\n",
    "train_x=np.swapaxes(X_train,1,2)#.reshape(-1,X_train.shape[-1],X_train.shape[-2])\n",
    "test_x=np.swapaxes(X_test,1,2)#.reshape(-1,X_train.shape[-1],X_train.shape[-2])\n",
    "#enc1=pickle.load(open(f'../../ClassificationModels//models/{dataset}/OneHotEncoder.pkl','rb'))\n",
    "#enc1=sklearn.preprocessing.OneHotEncoder(sparse=False).fit(np.vstack((train_y.reshape(-1,1),test_y.reshape(-1,1))))\n",
    "#test_y=enc1.transform(test_y.reshape(-1,1))\n",
    "#train_y=enc1.transform(train_y.reshape(-1,1))\n",
    "n_classes = len(np.unique(test_y))\n",
    "\n"
   ]
  },
  {
   "cell_type": "code",
   "execution_count": 3,
   "metadata": {},
   "outputs": [
    {
     "data": {
      "text/plain": [
       "2"
      ]
     },
     "execution_count": 3,
     "metadata": {},
     "output_type": "execute_result"
    }
   ],
   "source": [
    "n_classes"
   ]
  },
  {
   "cell_type": "code",
   "execution_count": 4,
   "metadata": {},
   "outputs": [],
   "source": [
    "from ClassificationModels.CNN_T import ResNetBaseline, UCRDataset, get_all_preds, fit\n",
    "stride = 1\n",
    "kernel_size=10\n",
    "padding = kernel_size - 1\n",
    "input_size= train_x.shape[-1]\n",
    "device = torch.device( \"cpu\")#\"cuda:0\" if torch.cuda.is_available() else\n",
    "model = ResNetBaseline(in_channels= 1, num_pred_classes=n_classes)\n",
    "\n",
    "model.load_state_dict(torch.load(f'../../ClassificationModels/models/{dataset}/ResNet'))\n",
    "#torch.save(model.state_dict(), f'../../ClassificationModels/models/{dataset}/ResNet')\n",
    "test_dataset = UCRDataset(test_x,test_y)\n",
    "test_loader = torch.utils.data.DataLoader(test_dataset,batch_size=1,shuffle=True)\n",
    "model.eval()\n",
    "y_pred,labels= get_all_preds(model,test_loader)\n"
   ]
  },
  {
   "attachments": {},
   "cell_type": "markdown",
   "metadata": {},
   "source": [
    "## Interpretability Algorithm\n",
    "\n",
    "Using a interpretability algorithm consists of 4 steps:\n",
    "\n",
    "1. Load the Interpretability Method\n",
    "2. Instaniate the Method with the desired Parameters\n",
    "3. Call the explain Method\n",
    "4. Plot the results\n",
    "\n",
    "### 1. & 2. Loading & Initialization\n",
    "\n",
    "SETS works on all models returning a probability function. The Initialization takes the following arguments:\n",
    "\n",
    "    `model`: The model to be explaines.\n",
    "    `data`: Tuple of Data and Labels.\n",
    "    `backend`: `PYT`, `SK`, or `TF`.\n",
    "    `mode`: second dimension is either `feat` or `time`. \n",
    "    `method`: Optimization Method either `brut` or `opt`.\n",
    "    `min_shapelet_len` : Value for min length of extracted shapelets \n",
    "    `max_shapelet_len`: Value for max length of extracted shapelets\n",
    "    `time_contract_in_mins_per_dim` : Max time for shapelet extraction per dimension\n",
    "    `initial_num_shapelets_per_case` : Initial number of shapelets per case."
   ]
  },
  {
   "cell_type": "markdown",
   "metadata": {},
   "source": [
    "### For Univariate ECG200 Case"
   ]
  },
  {
   "cell_type": "code",
   "execution_count": 6,
   "metadata": {},
   "outputs": [
    {
     "name": "stdout",
     "output_type": "stream",
     "text": [
      "feat\n",
      "150\n",
      "TRAINSHAPE (50, 1, 150)\n",
      "Extract Shapelets with information gain rejection lvl 0.001 and shapelets per class of 30\n"
     ]
    }
   ],
   "source": [
    "%load_ext autoreload\n",
    "%autoreload 2\n",
    "\n",
    "from TSInterpret.InterpretabilityModels.counterfactual.SETSCF import SETSCF\n",
    "\n",
    "train_x, train_y, test_x, test_y = X_train,train_y,X_test,test_y\n",
    "\n",
    "# Note: this is for demonstration purposes, time contract per minutes should be adjusted for better results! \n",
    "exp_model= SETSCF(model,\n",
    "                  (train_x, train_y),\n",
    "                  backend='PYT',\n",
    "                  mode='feat',  \n",
    "                  min_shapelet_len=3,\n",
    "                  max_shapelet_len=20,\n",
    "                  time_contract_in_mins_per_dim=1,\n",
    "                  #initial_num_shapelets_per_case=10,\n",
    "                  fit_shapelets = False )\n"
   ]
  },
  {
   "attachments": {},
   "cell_type": "markdown",
   "metadata": {},
   "source": [
    "### 3. Call the fit method.\n",
    "\n",
    "This method is optional! If shapelets are already exctracted, please specify here the occlusion threshhold and if shapelets belonging to multiple classes should be retained. \n",
    "This method is called by default if the explain_model is fitted. \n"
   ]
  },
  {
   "cell_type": "code",
   "execution_count": 7,
   "metadata": {},
   "outputs": [
    {
     "name": "stdout",
     "output_type": "stream",
     "text": [
      "Fit function to prune shapelets with occlusion threshhold of 0.1 and remove shapelets belonging to more than one class set to True\n",
      "Shapelet by index per class and dimension: {0: [[0, 1, 4, 6, 7, 9, 10, 15, 16, 20, 21, 23, 25, 26, 27, 28, 32, 37, 38, 43, 44, 46, 47, 48]], 1: [[2, 3, 5, 8, 11, 12, 13, 14, 17, 18, 19, 22, 24, 29, 30, 31, 33, 34, 35, 36, 39, 40, 41, 42, 45, 49]]}\n"
     ]
    }
   ],
   "source": [
    "exp_model.fit(occlusion_threshhold=1e-1,remove_multiclass_shapelets=True)\n"
   ]
  },
  {
   "cell_type": "markdown",
   "metadata": {},
   "source": [
    "\n",
    "### 4. Call the explain method.\n",
    "\n",
    "Prepeare the instance and the predicted label of the instance as parameters for the explain methods.\n",
    "\n",
    "- `item`: item to be explained"
   ]
  },
  {
   "cell_type": "code",
   "execution_count": 14,
   "metadata": {},
   "outputs": [
    {
     "name": "stdout",
     "output_type": "stream",
     "text": [
      "ts 0\n",
      "TARGETS [0, 1]\n",
      "(1, 150)\n",
      "(1, 150)\n",
      "BEFOR\n",
      "(1, 150)\n",
      "(1, 1, 150)\n",
      "[[0.79194486 0.20805514]]\n",
      "orig_c 0\n",
      "cf dim [-0.62695602 -0.62591896 -0.62753797 -0.62632624 -0.62408545 -0.62470754\n",
      " -0.62500642 -0.62417532 -0.62401803 -0.62203314 -0.62296717 -0.61967762\n",
      " -0.61946229 -0.61814436 -0.61769863 -0.61778575 -0.61818893 -0.6181766\n",
      " -0.61953835 -0.6164082  -0.61665925 -0.61665072 -0.61549472 -0.61248719\n",
      " -0.60722477 -0.60352826 -0.59812825 -0.59191062 -0.59274909 -0.5907425\n",
      " -0.58918122 -0.58860158 -0.58718179 -0.58708729 -0.58760592 -0.58635015\n",
      " -0.58647868 -0.58728134 -0.58708676 -0.58559058 -0.58750626 -0.58789321\n",
      " -0.58679273  0.08932682 -0.08243625 -0.20801636 -0.31135539 -0.39002772\n",
      " -0.44499149 -0.48459683 -0.49395135 -0.51795819  0.72301819  0.72393349\n",
      "  0.72520131  0.72594679  0.72574737  0.7241794   0.72710597  0.74000402\n",
      "  0.77428331  0.84427657  0.94580083  1.11815062 -0.58812087  1.39089095\n",
      "  0.60381076  1.66363128  1.79574241  1.8571275   1.96125807  2.0719651\n",
      "  2.0707276   2.0646814   2.0631246   2.0657015   2.0657015   2.0666776\n",
      "  2.0601889   2.0535727   2.0354601   1.9945898   1.9432569   1.8442691\n",
      "  1.6998211   1.5404575   1.3767714   1.2161136   1.0655225   0.94005205\n",
      "  0.81198775  0.68370316  0.59455891  0.52078877  0.33134774  0.31776854\n",
      "  0.20072731  0.06089744 -0.11046596 -0.36178351 -0.45538457 -0.58098909\n",
      " -0.65286111 -0.64350912 -0.69993032 -0.6652194  -0.62513889 -0.74353195\n",
      " -0.72846277 -0.65288373 -0.6433066  -0.63710277 -0.63227807 -0.62815469\n",
      " -0.62083931 -0.61483101 -0.60712268 -0.60026137 -0.5921131  -0.58739059\n",
      " -0.58507384 -0.58448389 -0.58348148 -0.58531868 -0.58982016 -0.62152598\n",
      " -0.62131755 -0.62121057 -0.62114417 -0.62066206 -0.61958468 -0.61768029\n",
      " -0.61530105 -0.61266361 -0.60942321 -0.60640665 -0.60364682 -0.60095008\n",
      " -0.59832544 -0.59551934 -0.59282135 -0.59088765 -0.59000168 -0.62409104\n",
      " -0.62398853 -0.62434988 -0.62437622 -0.61947093 -0.61205789 -0.60642232]\n",
      "cf dim 0\n",
      "cf dim [0. 0. 0. 0. 0. 0. 0. 0. 0. 0. 0. 0. 0. 0. 0. 0. 0. 0. 0. 0. 0. 0. 0. 0.\n",
      " 0. 0. 0. 0. 0. 0. 0. 0. 0. 0. 0. 0. 0. 0. 0. 0. 0. 0. 0. 0. 0. 0. 0. 0.\n",
      " 0. 0. 0. 0. 0. 0. 0. 0. 0. 0. 0. 0. 0. 0. 0. 0. 0. 0. 0. 0. 0. 0. 0. 0.\n",
      " 0. 0. 0. 0. 0. 0. 0. 0. 0. 0. 0. 0. 0. 0. 0. 0. 0. 0. 0. 0. 0. 0. 0. 0.\n",
      " 0. 0. 0. 0. 0. 0. 0. 0. 0. 0. 0. 0. 0. 0. 0. 0. 0. 0. 0. 0. 0. 0. 0. 0.\n",
      " 0. 0. 0. 0. 0. 0. 0. 0. 0. 0. 0. 0. 0. 0. 0. 0. 0. 0. 0. 0. 0. 0. 0. 0.\n",
      " 0. 0. 0. 0. 0. 0.]\n",
      "Counterfactual has been found\n"
     ]
    }
   ],
   "source": [
    "ts = 1\n",
    "test_y[ts]\n",
    "print('ts',y_pred[ts])\n",
    "cf_explanation, label = exp_model.explain(test_x[ts], target = None)"
   ]
  },
  {
   "attachments": {},
   "cell_type": "markdown",
   "metadata": {},
   "source": [
    "### 4. Visualization\n",
    "\n",
    "All plot function take as input the item to be explained and the returned explanation. As as additonal option a figsize can be given.\n"
   ]
  },
  {
   "cell_type": "code",
   "execution_count": 15,
   "metadata": {},
   "outputs": [
    {
     "data": {
      "image/png": "[encoded data removed]",
      "text/plain": [
       "<Figure size 640x480 with 4 Axes>"
      ]
     },
     "metadata": {},
     "output_type": "display_data"
    }
   ],
   "source": [
    "exp_model.plot(\n",
    "        cf_explanation,\n",
    "        y_pred[ts],\n",
    "        test_x[ts],\n",
    "        label,\n",
    "        vis_change=True,\n",
    "        all_in_one=False,\n",
    "        save_fig=None,\n",
    "        figsize=(6.4, 4.8))"
   ]
  },
  {
   "cell_type": "markdown",
   "metadata": {},
   "source": [
    "### Multivariate Case"
   ]
  },
  {
   "cell_type": "code",
   "execution_count": 12,
   "metadata": {},
   "outputs": [],
   "source": [
    "import sklearn\n",
    "dataset='BasicMotions'\n",
    "X_train,train_y,X_test,test_y=UCR_UEA_datasets().load_dataset(dataset)\n",
    "train_x=np.swapaxes(X_train,2,1)\n",
    "test_x=np.swapaxes(X_test,2,1)\n",
    "\n",
    "\n",
    "n_classes = len(np.unique(test_y))\n"
   ]
  },
  {
   "cell_type": "code",
   "execution_count": 15,
   "metadata": {},
   "outputs": [],
   "source": [
    "from ClassificationModels.CNN_T import ResNetBaseline, UCRDataset, get_all_preds\n",
    "from ClassificationModels.LSTM_T import LSTM\n",
    "\n",
    "#device = torch.device( \"cpu\")#\"cuda:0\" if torch.cuda.is_available() else\n",
    "model = ResNetBaseline(in_channels=train_x.shape[1], num_pred_classes=n_classes)\n",
    "model.load_state_dict(torch.load(f'../../ClassificationModels//models/{dataset}/ResNet'))\n",
    "test_dataset = UCRDataset(test_x,test_y)\n",
    "test_loader = torch.utils.data.DataLoader(test_dataset,batch_size=1,shuffle=True)"
   ]
  },
  {
   "cell_type": "code",
   "execution_count": 16,
   "metadata": {},
   "outputs": [
    {
     "data": {
      "text/plain": [
       "ResNetBaseline(\n",
       "  (layers): Sequential(\n",
       "    (0): ResNetBlock(\n",
       "      (layers): Sequential(\n",
       "        (0): ConvBlock(\n",
       "          (layers): Sequential(\n",
       "            (0): Conv1dSamePadding(6, 64, kernel_size=(8,), stride=(1,))\n",
       "            (1): BatchNorm1d(64, eps=1e-05, momentum=0.1, affine=True, track_running_stats=True)\n",
       "            (2): ReLU()\n",
       "          )\n",
       "        )\n",
       "        (1): ConvBlock(\n",
       "          (layers): Sequential(\n",
       "            (0): Conv1dSamePadding(64, 64, kernel_size=(5,), stride=(1,))\n",
       "            (1): BatchNorm1d(64, eps=1e-05, momentum=0.1, affine=True, track_running_stats=True)\n",
       "            (2): ReLU()\n",
       "          )\n",
       "        )\n",
       "        (2): ConvBlock(\n",
       "          (layers): Sequential(\n",
       "            (0): Conv1dSamePadding(64, 64, kernel_size=(3,), stride=(1,))\n",
       "            (1): BatchNorm1d(64, eps=1e-05, momentum=0.1, affine=True, track_running_stats=True)\n",
       "            (2): ReLU()\n",
       "          )\n",
       "        )\n",
       "      )\n",
       "      (residual): Sequential(\n",
       "        (0): Conv1dSamePadding(6, 64, kernel_size=(1,), stride=(1,))\n",
       "        (1): BatchNorm1d(64, eps=1e-05, momentum=0.1, affine=True, track_running_stats=True)\n",
       "      )\n",
       "    )\n",
       "    (1): ResNetBlock(\n",
       "      (layers): Sequential(\n",
       "        (0): ConvBlock(\n",
       "          (layers): Sequential(\n",
       "            (0): Conv1dSamePadding(64, 128, kernel_size=(8,), stride=(1,))\n",
       "            (1): BatchNorm1d(128, eps=1e-05, momentum=0.1, affine=True, track_running_stats=True)\n",
       "            (2): ReLU()\n",
       "          )\n",
       "        )\n",
       "        (1): ConvBlock(\n",
       "          (layers): Sequential(\n",
       "            (0): Conv1dSamePadding(128, 128, kernel_size=(5,), stride=(1,))\n",
       "            (1): BatchNorm1d(128, eps=1e-05, momentum=0.1, affine=True, track_running_stats=True)\n",
       "            (2): ReLU()\n",
       "          )\n",
       "        )\n",
       "        (2): ConvBlock(\n",
       "          (layers): Sequential(\n",
       "            (0): Conv1dSamePadding(128, 128, kernel_size=(3,), stride=(1,))\n",
       "            (1): BatchNorm1d(128, eps=1e-05, momentum=0.1, affine=True, track_running_stats=True)\n",
       "            (2): ReLU()\n",
       "          )\n",
       "        )\n",
       "      )\n",
       "      (residual): Sequential(\n",
       "        (0): Conv1dSamePadding(64, 128, kernel_size=(1,), stride=(1,))\n",
       "        (1): BatchNorm1d(128, eps=1e-05, momentum=0.1, affine=True, track_running_stats=True)\n",
       "      )\n",
       "    )\n",
       "    (2): ResNetBlock(\n",
       "      (layers): Sequential(\n",
       "        (0): ConvBlock(\n",
       "          (layers): Sequential(\n",
       "            (0): Conv1dSamePadding(128, 128, kernel_size=(8,), stride=(1,))\n",
       "            (1): BatchNorm1d(128, eps=1e-05, momentum=0.1, affine=True, track_running_stats=True)\n",
       "            (2): ReLU()\n",
       "          )\n",
       "        )\n",
       "        (1): ConvBlock(\n",
       "          (layers): Sequential(\n",
       "            (0): Conv1dSamePadding(128, 128, kernel_size=(5,), stride=(1,))\n",
       "            (1): BatchNorm1d(128, eps=1e-05, momentum=0.1, affine=True, track_running_stats=True)\n",
       "            (2): ReLU()\n",
       "          )\n",
       "        )\n",
       "        (2): ConvBlock(\n",
       "          (layers): Sequential(\n",
       "            (0): Conv1dSamePadding(128, 128, kernel_size=(3,), stride=(1,))\n",
       "            (1): BatchNorm1d(128, eps=1e-05, momentum=0.1, affine=True, track_running_stats=True)\n",
       "            (2): ReLU()\n",
       "          )\n",
       "        )\n",
       "      )\n",
       "    )\n",
       "  )\n",
       "  (final): Linear(in_features=128, out_features=4, bias=True)\n",
       ")"
      ]
     },
     "execution_count": 16,
     "metadata": {},
     "output_type": "execute_result"
    }
   ],
   "source": [
    "model.eval()"
   ]
  },
  {
   "cell_type": "code",
   "execution_count": 17,
   "metadata": {},
   "outputs": [],
   "source": [
    "y_pred=model(torch.from_numpy(train_x).float()).detach().numpy()\n"
   ]
  },
  {
   "cell_type": "code",
   "execution_count": null,
   "metadata": {},
   "outputs": [
    {
     "name": "stdout",
     "output_type": "stream",
     "text": [
      "The autoreload extension is already loaded. To reload it, use:\n",
      "  %reload_ext autoreload\n",
      "feat\n",
      "6\n",
      "TRAINSHAPE (40, 100, 6)\n",
      "Extract Shapelets with information gain rejection lvl 0.001 and shapelets per class of 30\n"
     ]
    }
   ],
   "source": [
    "%load_ext autoreload\n",
    "%autoreload 2\n",
    "\n",
    "from TSInterpret.InterpretabilityModels.counterfactual.SETSCF import SETSCF\n",
    "exp_model= SETSCF(model,\n",
    "                  (train_x,train_y),\n",
    "                  backend='PYT',\n",
    "                  mode='feat',         \n",
    "                  min_shapelet_len=3,\n",
    "                  max_shapelet_len=20,\n",
    "                  time_contract_in_mins_per_dim=1,\n",
    "                  #initial_num_shapelets_per_case=10,\n",
    "                  fit_shapelets = False)"
   ]
  },
  {
   "cell_type": "code",
   "execution_count": null,
   "metadata": {},
   "outputs": [],
   "source": [
    "exp_model.fit(occlusion_threshhold=1e-1,remove_multiclass_shapelets=True)"
   ]
  },
  {
   "cell_type": "code",
   "execution_count": null,
   "metadata": {},
   "outputs": [],
   "source": [
    "ts = 1\n",
    "cf_explanation, label = exp_model.explain(train_x[ts], target =0)"
   ]
  },
  {
   "cell_type": "code",
   "execution_count": null,
   "metadata": {},
   "outputs": [],
   "source": [
    "#item, org_label, exp, cf_label, save_fig=None, figsize=(6.4, 4.8)\n",
    "exp_model.plot_in_one(test_x[ts],0,cf_explanation,1,figsize=(15,15))"
   ]
  }
 ],
 "metadata": {
  "kernelspec": {
   "display_name": "TSInterpret-NXJYnQDU",
   "language": "python",
   "name": "python3"
  },
  "language_info": {
   "codemirror_mode": {
    "name": "ipython",
    "version": 3
   },
   "file_extension": ".py",
   "mimetype": "text/x-python",
   "name": "python",
   "nbconvert_exporter": "python",
   "pygments_lexer": "ipython3",
   "version": "3.10.12"
  },
  "orig_nbformat": 4
 },
 "nbformat": 4,
 "nbformat_minor": 2
}
